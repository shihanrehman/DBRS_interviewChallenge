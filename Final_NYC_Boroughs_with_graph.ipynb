{
  "nbformat": 4,
  "nbformat_minor": 0,
  "metadata": {
    "colab": {
      "name": "Final_NYC_Boroughs_with_graph.ipynb",
      "version": "0.3.2",
      "provenance": [],
      "collapsed_sections": [],
      "toc_visible": true,
      "include_colab_link": true
    },
    "kernelspec": {
      "display_name": "Python 3",
      "language": "python",
      "name": "python3"
    }
  },
  "cells": [
    {
      "cell_type": "markdown",
      "metadata": {
        "id": "view-in-github",
        "colab_type": "text"
      },
      "source": [
        "<a href=\"https://colab.research.google.com/github/shihanrehman/DBRS_interviewChallenge/blob/master/Final_NYC_Boroughs_with_graph.ipynb\" target=\"_parent\"><img src=\"https://colab.research.google.com/assets/colab-badge.svg\" alt=\"Open In Colab\"/></a>"
      ]
    },
    {
      "metadata": {
        "id": "q4TMyzgLzOOA",
        "colab_type": "text"
      },
      "cell_type": "markdown",
      "source": [
        "### Start (Load the CSV Files) 311_Service_Requests_from_2010_to_Present.csv 2) ZipCode_Population.csv)<br>\n",
        "\n",
        "load libraries and download *.csv"
      ]
    },
    {
      "metadata": {
        "id": "jB8VkXZRkqwF",
        "colab_type": "code",
        "colab": {}
      },
      "cell_type": "code",
      "source": [
        "#import libraries\n",
        "\n",
        "import warnings\n",
        "warnings.filterwarnings('ignore')\n",
        "\n",
        "import pandas as pd\n",
        "import numpy as np\n",
        "\n",
        "import matplotlib.pyplot as plt\n",
        "%matplotlib inline\n",
        "\n",
        "import os"
      ],
      "execution_count": 0,
      "outputs": []
    },
    {
      "metadata": {
        "id": "E7WyHPMrkqwb",
        "colab_type": "code",
        "outputId": "b24676ef-8851-4541-e2c0-831b86ebd05b",
        "colab": {
          "base_uri": "https://localhost:8080/",
          "height": 35
        }
      },
      "cell_type": "code",
      "source": [
        "print ('Pandas version is:', pd.__version__) "
      ],
      "execution_count": 44,
      "outputs": [
        {
          "output_type": "stream",
          "text": [
            "Pandas version is: 0.22.0\n"
          ],
          "name": "stdout"
        }
      ]
    },
    {
      "metadata": {
        "id": "lyA0ny79AurZ",
        "colab_type": "text"
      },
      "cell_type": "markdown",
      "source": [
        "Let's download ZipCode_Population.csv & Complaints_2017data.rar, rename and unrar it."
      ]
    },
    {
      "metadata": {
        "id": "uMouPMWwlShZ",
        "colab_type": "code",
        "outputId": "e1249848-0120-40ec-b86b-019daeedf3c5",
        "colab": {
          "base_uri": "https://localhost:8080/",
          "height": 35
        }
      },
      "cell_type": "code",
      "source": [
        "current_dir_files = os.listdir('.')\n",
        "print (current_dir_files)"
      ],
      "execution_count": 45,
      "outputs": [
        {
          "output_type": "stream",
          "text": [
            "['.config', '10_most_overall_Complaint types_for_Borough_2017.csv', '311_Service_Requests_from_2010_to_Present.csv', 'ZipCode_Population.csv', 'Complaints_2017data.rar', 'sample_data']\n"
          ],
          "name": "stdout"
        }
      ]
    },
    {
      "metadata": {
        "id": "Y4GMX7GymFyR",
        "colab_type": "code",
        "colab": {}
      },
      "cell_type": "code",
      "source": [
        "if '311_Service_Requests_from_2010_to_Present.csv' not in current_dir_files:\n",
        "  \n",
        "  !wget –q 'https://www.dropbox.com/s/ipa7s8gxx5vuoi3/Complaints_2017data.rar?dl=1'\n",
        "  os.rename ('Complaints_2017data.rar?dl=1', 'Complaints_2017data.rar')\n",
        "  !unrar e -inul -y 'Complaints_2017data.rar'"
      ],
      "execution_count": 0,
      "outputs": []
    },
    {
      "metadata": {
        "id": "_BQ62CizlZfF",
        "colab_type": "code",
        "colab": {}
      },
      "cell_type": "code",
      "source": [
        "if 'ZipCode_Population.csv' not in current_dir_files:\n",
        "  \n",
        "  !wget -q 'https://www.dropbox.com/s/m12qqydweossgzm/ZipCode_Population.csv?dl=1'\n",
        "  os.rename ('ZipCode_Population.csv?dl=1', 'ZipCode_Population.csv')"
      ],
      "execution_count": 0,
      "outputs": []
    },
    {
      "metadata": {
        "id": "RTlvcocdkqwr",
        "colab_type": "code",
        "outputId": "0e2106f0-d210-44dd-8111-8220e2bb57d1",
        "colab": {
          "base_uri": "https://localhost:8080/",
          "height": 228
        }
      },
      "cell_type": "code",
      "source": [
        "# Lets look at the data and analyze it.  \n",
        "\n",
        "data = pd.read_csv('311_Service_Requests_from_2010_to_Present.csv', header = 0, nrows=10)\n",
        "data.head(2)"
      ],
      "execution_count": 48,
      "outputs": [
        {
          "output_type": "execute_result",
          "data": {
            "text/html": [
              "<div>\n",
              "<style scoped>\n",
              "    .dataframe tbody tr th:only-of-type {\n",
              "        vertical-align: middle;\n",
              "    }\n",
              "\n",
              "    .dataframe tbody tr th {\n",
              "        vertical-align: top;\n",
              "    }\n",
              "\n",
              "    .dataframe thead th {\n",
              "        text-align: right;\n",
              "    }\n",
              "</style>\n",
              "<table border=\"1\" class=\"dataframe\">\n",
              "  <thead>\n",
              "    <tr style=\"text-align: right;\">\n",
              "      <th></th>\n",
              "      <th>Unique Key</th>\n",
              "      <th>Created Date</th>\n",
              "      <th>Closed Date</th>\n",
              "      <th>Agency</th>\n",
              "      <th>Agency Name</th>\n",
              "      <th>Complaint Type</th>\n",
              "      <th>Descriptor</th>\n",
              "      <th>Location Type</th>\n",
              "      <th>Incident Zip</th>\n",
              "      <th>Incident Address</th>\n",
              "      <th>...</th>\n",
              "      <th>Vehicle Type</th>\n",
              "      <th>Taxi Company Borough</th>\n",
              "      <th>Taxi Pick Up Location</th>\n",
              "      <th>Bridge Highway Name</th>\n",
              "      <th>Bridge Highway Direction</th>\n",
              "      <th>Road Ramp</th>\n",
              "      <th>Bridge Highway Segment</th>\n",
              "      <th>Latitude</th>\n",
              "      <th>Longitude</th>\n",
              "      <th>Location</th>\n",
              "    </tr>\n",
              "  </thead>\n",
              "  <tbody>\n",
              "    <tr>\n",
              "      <th>0</th>\n",
              "      <td>37188206</td>\n",
              "      <td>09/14/2017 04:40:33 PM</td>\n",
              "      <td>10/19/2018 07:30:48 AM</td>\n",
              "      <td>DPR</td>\n",
              "      <td>Department of Parks and Recreation</td>\n",
              "      <td>New Tree Request</td>\n",
              "      <td>For One Address</td>\n",
              "      <td>Street</td>\n",
              "      <td>11374</td>\n",
              "      <td>63-11 WETHEROLE STREET</td>\n",
              "      <td>...</td>\n",
              "      <td>NaN</td>\n",
              "      <td>NaN</td>\n",
              "      <td>NaN</td>\n",
              "      <td>NaN</td>\n",
              "      <td>NaN</td>\n",
              "      <td>NaN</td>\n",
              "      <td>NaN</td>\n",
              "      <td>40.728620</td>\n",
              "      <td>-73.865295</td>\n",
              "      <td>(40.728619539832, -73.865295234063)</td>\n",
              "    </tr>\n",
              "    <tr>\n",
              "      <th>1</th>\n",
              "      <td>35735866</td>\n",
              "      <td>03/18/2017 10:09:57 AM</td>\n",
              "      <td>10/19/2018 12:00:00 AM</td>\n",
              "      <td>DOB</td>\n",
              "      <td>Department of Buildings</td>\n",
              "      <td>General Construction/Plumbing</td>\n",
              "      <td>Curb Cut/Driveway/Carport - Illegal</td>\n",
              "      <td>NaN</td>\n",
              "      <td>11420</td>\n",
              "      <td>111-36 LEFFERTS BOULEVARD</td>\n",
              "      <td>...</td>\n",
              "      <td>NaN</td>\n",
              "      <td>NaN</td>\n",
              "      <td>NaN</td>\n",
              "      <td>NaN</td>\n",
              "      <td>NaN</td>\n",
              "      <td>NaN</td>\n",
              "      <td>NaN</td>\n",
              "      <td>40.680213</td>\n",
              "      <td>-73.821227</td>\n",
              "      <td>(40.680213167851, -73.821227012238)</td>\n",
              "    </tr>\n",
              "  </tbody>\n",
              "</table>\n",
              "<p>2 rows × 41 columns</p>\n",
              "</div>"
            ],
            "text/plain": [
              "   Unique Key            Created Date             Closed Date Agency  \\\n",
              "0    37188206  09/14/2017 04:40:33 PM  10/19/2018 07:30:48 AM    DPR   \n",
              "1    35735866  03/18/2017 10:09:57 AM  10/19/2018 12:00:00 AM    DOB   \n",
              "\n",
              "                          Agency Name                 Complaint Type  \\\n",
              "0  Department of Parks and Recreation               New Tree Request   \n",
              "1             Department of Buildings  General Construction/Plumbing   \n",
              "\n",
              "                            Descriptor Location Type  Incident Zip  \\\n",
              "0                      For One Address        Street         11374   \n",
              "1  Curb Cut/Driveway/Carport - Illegal           NaN         11420   \n",
              "\n",
              "            Incident Address                 ...                   \\\n",
              "0     63-11 WETHEROLE STREET                 ...                    \n",
              "1  111-36 LEFFERTS BOULEVARD                 ...                    \n",
              "\n",
              "  Vehicle Type Taxi Company Borough Taxi Pick Up Location  \\\n",
              "0          NaN                  NaN                   NaN   \n",
              "1          NaN                  NaN                   NaN   \n",
              "\n",
              "   Bridge Highway Name  Bridge Highway Direction Road Ramp  \\\n",
              "0                  NaN                       NaN       NaN   \n",
              "1                  NaN                       NaN       NaN   \n",
              "\n",
              "  Bridge Highway Segment   Latitude  Longitude  \\\n",
              "0                    NaN  40.728620 -73.865295   \n",
              "1                    NaN  40.680213 -73.821227   \n",
              "\n",
              "                              Location  \n",
              "0  (40.728619539832, -73.865295234063)  \n",
              "1  (40.680213167851, -73.821227012238)  \n",
              "\n",
              "[2 rows x 41 columns]"
            ]
          },
          "metadata": {
            "tags": []
          },
          "execution_count": 48
        }
      ]
    },
    {
      "metadata": {
        "id": "mv3Vf-wFkqw6",
        "colab_type": "code",
        "outputId": "0a165a2e-496e-4ed7-c3e5-20572be0453a",
        "colab": {
          "base_uri": "https://localhost:8080/",
          "height": 220
        }
      },
      "cell_type": "code",
      "source": [
        "print ('Columns: ', data.columns.values)"
      ],
      "execution_count": 49,
      "outputs": [
        {
          "output_type": "stream",
          "text": [
            "Columns:  ['Unique Key' 'Created Date' 'Closed Date' 'Agency' 'Agency Name'\n",
            " 'Complaint Type' 'Descriptor' 'Location Type' 'Incident Zip'\n",
            " 'Incident Address' 'Street Name' 'Cross Street 1' 'Cross Street 2'\n",
            " 'Intersection Street 1' 'Intersection Street 2' 'Address Type' 'City'\n",
            " 'Landmark' 'Facility Type' 'Status' 'Due Date' 'Resolution Description'\n",
            " 'Resolution Action Updated Date' 'Community Board' 'BBL' 'Borough'\n",
            " 'X Coordinate (State Plane)' 'Y Coordinate (State Plane)'\n",
            " 'Open Data Channel Type' 'Park Facility Name' 'Park Borough'\n",
            " 'Vehicle Type' 'Taxi Company Borough' 'Taxi Pick Up Location'\n",
            " 'Bridge Highway Name' 'Bridge Highway Direction' 'Road Ramp'\n",
            " 'Bridge Highway Segment' 'Latitude' 'Longitude' 'Location']\n"
          ],
          "name": "stdout"
        }
      ]
    },
    {
      "metadata": {
        "id": "29rjSpeukqxF",
        "colab_type": "text"
      },
      "cell_type": "markdown",
      "source": [
        "###Part A - Validate and clean the data, and ensure that it is from 2017\n",
        "\n",
        "[link text](https://)\n"
      ]
    },
    {
      "metadata": {
        "id": "pJxFtHB_kqxM",
        "colab_type": "text"
      },
      "cell_type": "markdown",
      "source": [
        "Create a script that grabs data from the CSV using the Pandas library. "
      ]
    },
    {
      "metadata": {
        "id": "JrrBNPWmkqxP",
        "colab_type": "code",
        "outputId": "e9d7870d-e98a-4108-f201-a48fff2414a5",
        "colab": {
          "base_uri": "https://localhost:8080/",
          "height": 112
        }
      },
      "cell_type": "code",
      "source": [
        "col_names = ['Complaint Type', 'Borough', 'Created Date', 'Incident Zip']\n",
        "data = pd.read_csv('311_Service_Requests_from_2010_to_Present.csv', header = 0, usecols = col_names)\n",
        "data.head(2) #display the first 2 rows"
      ],
      "execution_count": 50,
      "outputs": [
        {
          "output_type": "execute_result",
          "data": {
            "text/html": [
              "<div>\n",
              "<style scoped>\n",
              "    .dataframe tbody tr th:only-of-type {\n",
              "        vertical-align: middle;\n",
              "    }\n",
              "\n",
              "    .dataframe tbody tr th {\n",
              "        vertical-align: top;\n",
              "    }\n",
              "\n",
              "    .dataframe thead th {\n",
              "        text-align: right;\n",
              "    }\n",
              "</style>\n",
              "<table border=\"1\" class=\"dataframe\">\n",
              "  <thead>\n",
              "    <tr style=\"text-align: right;\">\n",
              "      <th></th>\n",
              "      <th>Created Date</th>\n",
              "      <th>Complaint Type</th>\n",
              "      <th>Incident Zip</th>\n",
              "      <th>Borough</th>\n",
              "    </tr>\n",
              "  </thead>\n",
              "  <tbody>\n",
              "    <tr>\n",
              "      <th>0</th>\n",
              "      <td>09/14/2017 04:40:33 PM</td>\n",
              "      <td>New Tree Request</td>\n",
              "      <td>11374</td>\n",
              "      <td>QUEENS</td>\n",
              "    </tr>\n",
              "    <tr>\n",
              "      <th>1</th>\n",
              "      <td>03/18/2017 10:09:57 AM</td>\n",
              "      <td>General Construction/Plumbing</td>\n",
              "      <td>11420</td>\n",
              "      <td>QUEENS</td>\n",
              "    </tr>\n",
              "  </tbody>\n",
              "</table>\n",
              "</div>"
            ],
            "text/plain": [
              "             Created Date                 Complaint Type Incident Zip Borough\n",
              "0  09/14/2017 04:40:33 PM               New Tree Request        11374  QUEENS\n",
              "1  03/18/2017 10:09:57 AM  General Construction/Plumbing        11420  QUEENS"
            ]
          },
          "metadata": {
            "tags": []
          },
          "execution_count": 50
        }
      ]
    },
    {
      "metadata": {
        "id": "g_ZYh5Swkqxe",
        "colab_type": "code",
        "outputId": "1434075d-af8d-426f-ef8b-606881a38a36",
        "colab": {
          "base_uri": "https://localhost:8080/",
          "height": 35
        }
      },
      "cell_type": "code",
      "source": [
        "print (\"data DataFrame's shape is: \", data.shape)"
      ],
      "execution_count": 51,
      "outputs": [
        {
          "output_type": "stream",
          "text": [
            "data DataFrame's shape is:  (2461176, 4)\n"
          ],
          "name": "stdout"
        }
      ]
    },
    {
      "metadata": {
        "id": "BODvKeKekqxu",
        "colab_type": "code",
        "outputId": "d46638e9-fd11-4013-e4db-8c7d15d0bbad",
        "colab": {
          "base_uri": "https://localhost:8080/",
          "height": 54
        }
      },
      "cell_type": "code",
      "source": [
        "# Unique values in 'Borough' column\n",
        "\n",
        "data.Borough.unique()"
      ],
      "execution_count": 52,
      "outputs": [
        {
          "output_type": "execute_result",
          "data": {
            "text/plain": [
              "array(['QUEENS', 'BROOKLYN', 'MANHATTAN', 'BRONX', 'Unspecified',\n",
              "       'STATEN ISLAND'], dtype=object)"
            ]
          },
          "metadata": {
            "tags": []
          },
          "execution_count": 52
        }
      ]
    },
    {
      "metadata": {
        "id": "aaFoU1npkqyD",
        "colab_type": "code",
        "outputId": "f083fedc-99b2-4e00-ac96-2301b80d5a0a",
        "colab": {
          "base_uri": "https://localhost:8080/",
          "height": 35
        }
      },
      "cell_type": "code",
      "source": [
        "# Let's drop the 'Unspecified' values in column 'Borough'\n",
        "\n",
        "boroughs = ['QUEENS', 'BROOKLYN', 'MANHATTAN', 'BRONX','STATEN ISLAND']\n",
        "bor = data['Borough'].isin(boroughs)\n",
        "data = data[bor]\n",
        "data.shape"
      ],
      "execution_count": 53,
      "outputs": [
        {
          "output_type": "execute_result",
          "data": {
            "text/plain": [
              "(2419694, 4)"
            ]
          },
          "metadata": {
            "tags": []
          },
          "execution_count": 53
        }
      ]
    },
    {
      "metadata": {
        "id": "qcKK9YIHkqyP",
        "colab_type": "code",
        "outputId": "b0816747-de74-4d80-8269-5916f46ecb6f",
        "colab": {
          "base_uri": "https://localhost:8080/",
          "height": 1292
        }
      },
      "cell_type": "code",
      "source": [
        "# Let's look at column 'Incident Zip'\n",
        "\n",
        "data['Incident Zip'].unique()"
      ],
      "execution_count": 54,
      "outputs": [
        {
          "output_type": "execute_result",
          "data": {
            "text/plain": [
              "array([11374.0, 11420.0, 11230.0, 10028.0, 10467.0, 10003.0, 11385.0,\n",
              "       11418.0, 10458.0, 11423.0, 11105.0, 10457.0, 11226.0, 10034.0,\n",
              "       10466.0, 11220.0, 11360.0, 10029.0, 11212.0, 11209.0, 10011.0,\n",
              "       11358.0, 11434.0, 11218.0, 10002.0, 11364.0, 11201.0, 10455.0,\n",
              "       11213.0, 11354.0, 11362.0, 11361.0, 11216.0, 11237.0, 10033.0,\n",
              "       11355.0, 11356.0, 11432.0, 10019.0, 11357.0, 11366.0, 10024.0,\n",
              "       10025.0, 11365.0, 11203.0, 11413.0, 11370.0, 11204.0, 11435.0,\n",
              "       11236.0, 11427.0, 11219.0, 11367.0, 11363.0, 11205.0, 10016.0,\n",
              "       10469.0, 11208.0, 10027.0, 11221.0, 10461.0, 11235.0, 11233.0,\n",
              "       10462.0, 11429.0, 10464.0, 10473.0, 10465.0, 11375.0, 11231.0,\n",
              "       11223.0, 11421.0, 11415.0, 11373.0, 10463.0, 11103.0, 11377.0,\n",
              "       11414.0, 10456.0, 11368.0, 10005.0, 10453.0, 11004.0, 11215.0,\n",
              "       11249.0, 10036.0, 11104.0, 11379.0, 10014.0, 10010.0, 11207.0,\n",
              "       10472.0, 11210.0, 11416.0, 11101.0, 10309.0, 11433.0, 11369.0,\n",
              "       10306.0, 10454.0, 11238.0, 11378.0, 11412.0, 11211.0, 10451.0,\n",
              "       10308.0, 11040.0, 10017.0, 10474.0, 11232.0, 10468.0, 10012.0,\n",
              "       11217.0, 10471.0, 10475.0, 10459.0, 10032.0, 10460.0, 11694.0,\n",
              "       10314.0, 10128.0, 11228.0, 11214.0, 10001.0, 11206.0, 11234.0,\n",
              "       10013.0, nan, 11430.0, 10007.0, 10452.0, 11419.0, 11229.0, 10022.0,\n",
              "       11102.0, 10038.0, 11106.0, 11225.0, 10006.0, 11691.0, 10301.0,\n",
              "       11692.0, 11417.0, 11428.0, 10304.0, 11372.0, 10470.0, 11693.0,\n",
              "       11426.0, 10031.0, 11422.0, 11001.0, 10303.0, 10021.0, 10030.0,\n",
              "       10023.0, 10312.0, 10065.0, 11222.0, 11239.0, 10004.0, 11411.0,\n",
              "       10026.0, 10305.0, 10281.0, 10009.0, 10044.0, 10018.0, 11436.0,\n",
              "       10040.0, 10039.0, 10035.0, 10075.0, 10307.0, 10310.0, 11224.0,\n",
              "       10037.0, 10302.0, 10112.0, 10154.0, 10168.0, 10282.0, 10155.0,\n",
              "       10280.0, 10119.0, 10118.0, 10069.0, 10121.0, 10041.0, 11109.0,\n",
              "       10271.0, 10162.0, 10173.0, 11371.0, 10174.0, 10123.0, 10169.0,\n",
              "       10000.0, 10120, 10110, 10803, 10279, 11697, 10105, 10178, 10020.0,\n",
              "       10106.0, 11005.0, 11359.0, 10165.0, 10278.0, 10179.0, 10167.0,\n",
              "       10122.0, 10176.0, 83.0, 10103.0, 10111.0, 10172.0, 10153.0,\n",
              "       11695.0, 11251.0, 10151.0, 10166.0, 11242.0, 11241.0, 10152.0,\n",
              "       10107.0, 10158.0, 10055.0, 10171.0, 10045.0, 10048.0, 10115.0,\n",
              "       10170.0, 10104.0, 10270.0, 10177.0, 11096.0, 10175.0, '10465',\n",
              "       '10031', '11364', '11428', '10003', '10036', '10469', '11691',\n",
              "       '11208', '11415', '11203', '11219', '10012', '10452', '11226',\n",
              "       '10065', '11216', '10472', '11373', '11385', '11362', '11355',\n",
              "       '10007', '11361', '11221', '11235', '11225', '11210', '11435',\n",
              "       '11211', '11365', '10022', '11436', '11413', '11228', '10023',\n",
              "       '11232', '11427', '11354', '10314', '11372', '11204', '11005',\n",
              "       '11692', '10014', '10462', '11233', '11377', '11375', '11201',\n",
              "       '10016', '11231', '10471', '10002', '11230', '10034', '11215',\n",
              "       '11220', '11207', '10456', '10021', '10019', '11368', '11421',\n",
              "       '11432', '11694', '10303', '10306', '11213', '11106', '11236',\n",
              "       '11209', '10305', '10030', '10308', '11434', '10009', '10467',\n",
              "       '11429', '10301', '11426', '10468', '10453', '11374', '11238',\n",
              "       '11229', '11420', '11419', '10025', '11412', '11693', '11102',\n",
              "       '11423', '10475', '11223', '10011', '11222', '11357', '11367',\n",
              "       '11358', '10026', '11004', '11360', '10028', '11414', '10451',\n",
              "       '10304', '11212', '10309', '11105', '11214', '11417', '10001',\n",
              "       '10457', '11249', '10010', '10013', '11356', '10033', '10466',\n",
              "       '11416', '10312', '11379', '10474', '11224', '11369', '11218',\n",
              "       '11366', '11370', '10470', '11411', '11239', '10027', '10038',\n",
              "       '11378', '10454', '10024', '11206', '10460', '10029', '10039',\n",
              "       '10458', '11363', '10128', '11205', '11234', '10075', '10032',\n",
              "       '10004', '11237', '11101', '11418', '10459', '11422', '10455',\n",
              "       '11104', '10302', '10310', '10461', '11217', '10005', '11103',\n",
              "       '10473', '10463', '10017', '10044', '11433', '10069', '11040',\n",
              "       '10464', '105457', '11001', '10037', '10018', '10307', '10040',\n",
              "       '10035', '10280', '00000', '10121', '10110', '10006', '10000',\n",
              "       '10282', '11109', '0000', '11559', '10167', '11352', '10138',\n",
              "       '10580', '11697', '10101', '10118', '10119', '11241', '11695',\n",
              "       '11', '10162', '11430', '60197', 'UNKNOWN', '0', '10710', '10041',\n",
              "       '10103', '10271', '11581', '98004', '10108', '10279', '10177',\n",
              "       '10476', '10412', '11359', '10151', '11030', '11563', '.', '10281',\n",
              "       '00', '11242', '10020', '110044', '1175', '10008', '10105',\n",
              "       '11202', '10173', '111234', '10155', '11408', '10120', '101',\n",
              "       '11371', '10176', '10174', '12250', 0.0, 112611.0, '10152',\n",
              "       '10170'], dtype=object)"
            ]
          },
          "metadata": {
            "tags": []
          },
          "execution_count": 54
        }
      ]
    },
    {
      "metadata": {
        "id": "UphZ-QEWvr38",
        "colab_type": "text"
      },
      "cell_type": "markdown",
      "source": [
        "column 'Incident Zip' containts NaN, 'Unknow' and other values, that are not a zip code\n",
        "\n",
        "lets remove it"
      ]
    },
    {
      "metadata": {
        "id": "9WLmGstKkqyb",
        "colab_type": "code",
        "colab": {}
      },
      "cell_type": "code",
      "source": [
        "values_to_remove = ['NOT SURE', 'UNKNOWN', '.', '0']"
      ],
      "execution_count": 0,
      "outputs": []
    },
    {
      "metadata": {
        "id": "z7xmF9xhkqyk",
        "colab_type": "code",
        "outputId": "23a65cf8-05b2-4c1a-a056-6524d07c6a6c",
        "colab": {
          "base_uri": "https://localhost:8080/",
          "height": 35
        }
      },
      "cell_type": "code",
      "source": [
        "data = data[~(data['Incident Zip'].isin(values_to_remove))]\n",
        "# remove NaN\n",
        "\n",
        "data = data[~((data['Incident Zip'].isnull()))]\n",
        "data['Incident Zip'] = data['Incident Zip'].astype('int')\n",
        "data.shape"
      ],
      "execution_count": 56,
      "outputs": [
        {
          "output_type": "execute_result",
          "data": {
            "text/plain": [
              "(2338893, 4)"
            ]
          },
          "metadata": {
            "tags": []
          },
          "execution_count": 56
        }
      ]
    },
    {
      "metadata": {
        "id": "kwaL3YGRkqyt",
        "colab_type": "code",
        "outputId": "5c9b2abd-0bf9-4062-bf78-73105827f48e",
        "colab": {
          "base_uri": "https://localhost:8080/",
          "height": 54
        }
      },
      "cell_type": "code",
      "source": [
        "# Let's look at column 'Created Date'\n",
        "\n",
        "print (data['Created Date'].min())\n",
        "print (np.sort(data['Created Date'].unique())[:2])"
      ],
      "execution_count": 57,
      "outputs": [
        {
          "output_type": "stream",
          "text": [
            "01/01/2017 01:00:17 AM\n",
            "['01/01/2017 01:00:17 AM' '01/01/2017 01:00:26 AM']\n"
          ],
          "name": "stdout"
        }
      ]
    },
    {
      "metadata": {
        "id": "5T-_7rhUkqy4",
        "colab_type": "text"
      },
      "cell_type": "markdown",
      "source": [
        "minimal data & time in column 'Created Date' is the beginning of 2017 year<br>\n",
        "it satisfies the condition: Created Date (Should all be from 2017)"
      ]
    },
    {
      "metadata": {
        "id": "7fzg1yyVSQgk",
        "colab_type": "code",
        "outputId": "f13f839e-9f4a-4bb6-8296-c053c57c2917",
        "colab": {
          "base_uri": "https://localhost:8080/",
          "height": 35
        }
      },
      "cell_type": "code",
      "source": [
        "print (data['Created Date'].max())\n"
      ],
      "execution_count": 58,
      "outputs": [
        {
          "output_type": "stream",
          "text": [
            "12/31/2017 12:59:35 PM\n"
          ],
          "name": "stdout"
        }
      ]
    },
    {
      "metadata": {
        "id": "XxHji2SAkqy6",
        "colab_type": "text"
      },
      "cell_type": "markdown",
      "source": [
        "###Part B - Find the 10 most common overall “Complaint types” for the year 2017 "
      ]
    },
    {
      "metadata": {
        "id": "RAM3FVmlkqy8",
        "colab_type": "code",
        "outputId": "e9e6d98e-0ef2-403b-f04e-eb0ce596e9df",
        "colab": {
          "base_uri": "https://localhost:8080/",
          "height": 220
        }
      },
      "cell_type": "code",
      "source": [
        "data['Complaint Type'].value_counts()[:10]"
      ],
      "execution_count": 59,
      "outputs": [
        {
          "output_type": "execute_result",
          "data": {
            "text/plain": [
              "Noise - Residential        229458\n",
              "HEAT/HOT WATER             213477\n",
              "Illegal Parking            144827\n",
              "Blocked Driveway           135056\n",
              "Street Condition            90343\n",
              "UNSANITARY CONDITION        79260\n",
              "Noise - Street/Sidewalk     72867\n",
              "Water System                63700\n",
              "Noise                       59466\n",
              "PAINT/PLASTER               57069\n",
              "Name: Complaint Type, dtype: int64"
            ]
          },
          "metadata": {
            "tags": []
          },
          "execution_count": 59
        }
      ]
    },
    {
      "metadata": {
        "id": "UFTmFm7SkqzS",
        "colab_type": "text"
      },
      "cell_type": "markdown",
      "source": [
        "###Part C - How many of each of those 10 types were there in 2017, for each borough?"
      ]
    },
    {
      "metadata": {
        "id": "QZ3_RnemkqzX",
        "colab_type": "code",
        "outputId": "75e56014-e921-48ba-fa3d-a33bac812978",
        "colab": {
          "base_uri": "https://localhost:8080/",
          "height": 978
        }
      },
      "cell_type": "code",
      "source": [
        "# How many of each of those 10 types were there in 2017, for each borough?\n",
        "\n",
        "common_top_10_complaintTypes = data['Complaint Type'].value_counts()[:10].index\n",
        "temp_df = data[data['Complaint Type'].isin(common_top_10_complaintTypes)].groupby(['Borough'])['Complaint Type'].value_counts()\n",
        "temp_df"
      ],
      "execution_count": 60,
      "outputs": [
        {
          "output_type": "execute_result",
          "data": {
            "text/plain": [
              "Borough        Complaint Type         \n",
              "BRONX          HEAT/HOT WATER             68713\n",
              "               Noise - Residential        57663\n",
              "               Blocked Driveway           24574\n",
              "               UNSANITARY CONDITION       24557\n",
              "               PAINT/PLASTER              19493\n",
              "               Illegal Parking            16122\n",
              "               Noise - Street/Sidewalk    14025\n",
              "               Street Condition           11155\n",
              "               Water System                9974\n",
              "               Noise                       3056\n",
              "BROOKLYN       Noise - Residential        67629\n",
              "               HEAT/HOT WATER             66977\n",
              "               Illegal Parking            55380\n",
              "               Blocked Driveway           49301\n",
              "               UNSANITARY CONDITION       26654\n",
              "               Street Condition           24876\n",
              "               Noise - Street/Sidewalk    21313\n",
              "               Water System               19508\n",
              "               PAINT/PLASTER              19398\n",
              "               Noise                      15227\n",
              "MANHATTAN      Noise - Residential        51026\n",
              "               HEAT/HOT WATER             46528\n",
              "               Noise - Street/Sidewalk    29146\n",
              "               Noise                      28754\n",
              "               Illegal Parking            19686\n",
              "               UNSANITARY CONDITION       14631\n",
              "               Street Condition           14497\n",
              "               PAINT/PLASTER              11486\n",
              "               Water System               10667\n",
              "               Blocked Driveway            3428\n",
              "QUEENS         Blocked Driveway           54288\n",
              "               Noise - Residential        46396\n",
              "               Illegal Parking            46065\n",
              "               Street Condition           29495\n",
              "               HEAT/HOT WATER             29186\n",
              "               Water System               18279\n",
              "               UNSANITARY CONDITION       11467\n",
              "               Noise                      10523\n",
              "               Noise - Street/Sidewalk     7530\n",
              "               PAINT/PLASTER               5682\n",
              "STATEN ISLAND  Street Condition           10320\n",
              "               Illegal Parking             7574\n",
              "               Noise - Residential         6744\n",
              "               Water System                5272\n",
              "               Blocked Driveway            3465\n",
              "               HEAT/HOT WATER              2073\n",
              "               UNSANITARY CONDITION        1951\n",
              "               Noise                       1906\n",
              "               PAINT/PLASTER               1010\n",
              "               Noise - Street/Sidewalk      853\n",
              "Name: Complaint Type, dtype: int64"
            ]
          },
          "metadata": {
            "tags": []
          },
          "execution_count": 60
        }
      ]
    },
    {
      "metadata": {
        "id": "GJc1CdUikqzp",
        "colab_type": "code",
        "outputId": "87b06c20-85c0-42f1-d787-a4b4fcad9b98",
        "colab": {
          "base_uri": "https://localhost:8080/",
          "height": 238
        }
      },
      "cell_type": "code",
      "source": [
        "# How many of each of those 10 types were there in 2017, for each borough?\n",
        "# The same data in another, more visual view\n",
        "\n",
        "temp_df.unstack().fillna(0)"
      ],
      "execution_count": 61,
      "outputs": [
        {
          "output_type": "execute_result",
          "data": {
            "text/html": [
              "<div>\n",
              "<style scoped>\n",
              "    .dataframe tbody tr th:only-of-type {\n",
              "        vertical-align: middle;\n",
              "    }\n",
              "\n",
              "    .dataframe tbody tr th {\n",
              "        vertical-align: top;\n",
              "    }\n",
              "\n",
              "    .dataframe thead th {\n",
              "        text-align: right;\n",
              "    }\n",
              "</style>\n",
              "<table border=\"1\" class=\"dataframe\">\n",
              "  <thead>\n",
              "    <tr style=\"text-align: right;\">\n",
              "      <th>Complaint Type</th>\n",
              "      <th>Blocked Driveway</th>\n",
              "      <th>HEAT/HOT WATER</th>\n",
              "      <th>Illegal Parking</th>\n",
              "      <th>Noise</th>\n",
              "      <th>Noise - Residential</th>\n",
              "      <th>Noise - Street/Sidewalk</th>\n",
              "      <th>PAINT/PLASTER</th>\n",
              "      <th>Street Condition</th>\n",
              "      <th>UNSANITARY CONDITION</th>\n",
              "      <th>Water System</th>\n",
              "    </tr>\n",
              "    <tr>\n",
              "      <th>Borough</th>\n",
              "      <th></th>\n",
              "      <th></th>\n",
              "      <th></th>\n",
              "      <th></th>\n",
              "      <th></th>\n",
              "      <th></th>\n",
              "      <th></th>\n",
              "      <th></th>\n",
              "      <th></th>\n",
              "      <th></th>\n",
              "    </tr>\n",
              "  </thead>\n",
              "  <tbody>\n",
              "    <tr>\n",
              "      <th>BRONX</th>\n",
              "      <td>24574</td>\n",
              "      <td>68713</td>\n",
              "      <td>16122</td>\n",
              "      <td>3056</td>\n",
              "      <td>57663</td>\n",
              "      <td>14025</td>\n",
              "      <td>19493</td>\n",
              "      <td>11155</td>\n",
              "      <td>24557</td>\n",
              "      <td>9974</td>\n",
              "    </tr>\n",
              "    <tr>\n",
              "      <th>BROOKLYN</th>\n",
              "      <td>49301</td>\n",
              "      <td>66977</td>\n",
              "      <td>55380</td>\n",
              "      <td>15227</td>\n",
              "      <td>67629</td>\n",
              "      <td>21313</td>\n",
              "      <td>19398</td>\n",
              "      <td>24876</td>\n",
              "      <td>26654</td>\n",
              "      <td>19508</td>\n",
              "    </tr>\n",
              "    <tr>\n",
              "      <th>MANHATTAN</th>\n",
              "      <td>3428</td>\n",
              "      <td>46528</td>\n",
              "      <td>19686</td>\n",
              "      <td>28754</td>\n",
              "      <td>51026</td>\n",
              "      <td>29146</td>\n",
              "      <td>11486</td>\n",
              "      <td>14497</td>\n",
              "      <td>14631</td>\n",
              "      <td>10667</td>\n",
              "    </tr>\n",
              "    <tr>\n",
              "      <th>QUEENS</th>\n",
              "      <td>54288</td>\n",
              "      <td>29186</td>\n",
              "      <td>46065</td>\n",
              "      <td>10523</td>\n",
              "      <td>46396</td>\n",
              "      <td>7530</td>\n",
              "      <td>5682</td>\n",
              "      <td>29495</td>\n",
              "      <td>11467</td>\n",
              "      <td>18279</td>\n",
              "    </tr>\n",
              "    <tr>\n",
              "      <th>STATEN ISLAND</th>\n",
              "      <td>3465</td>\n",
              "      <td>2073</td>\n",
              "      <td>7574</td>\n",
              "      <td>1906</td>\n",
              "      <td>6744</td>\n",
              "      <td>853</td>\n",
              "      <td>1010</td>\n",
              "      <td>10320</td>\n",
              "      <td>1951</td>\n",
              "      <td>5272</td>\n",
              "    </tr>\n",
              "  </tbody>\n",
              "</table>\n",
              "</div>"
            ],
            "text/plain": [
              "Complaint Type  Blocked Driveway  HEAT/HOT WATER  Illegal Parking  Noise  \\\n",
              "Borough                                                                    \n",
              "BRONX                      24574           68713            16122   3056   \n",
              "BROOKLYN                   49301           66977            55380  15227   \n",
              "MANHATTAN                   3428           46528            19686  28754   \n",
              "QUEENS                     54288           29186            46065  10523   \n",
              "STATEN ISLAND               3465            2073             7574   1906   \n",
              "\n",
              "Complaint Type  Noise - Residential  Noise - Street/Sidewalk  PAINT/PLASTER  \\\n",
              "Borough                                                                       \n",
              "BRONX                         57663                    14025          19493   \n",
              "BROOKLYN                      67629                    21313          19398   \n",
              "MANHATTAN                     51026                    29146          11486   \n",
              "QUEENS                        46396                     7530           5682   \n",
              "STATEN ISLAND                  6744                      853           1010   \n",
              "\n",
              "Complaint Type  Street Condition  UNSANITARY CONDITION  Water System  \n",
              "Borough                                                               \n",
              "BRONX                      11155                 24557          9974  \n",
              "BROOKLYN                   24876                 26654         19508  \n",
              "MANHATTAN                  14497                 14631         10667  \n",
              "QUEENS                     29495                 11467         18279  \n",
              "STATEN ISLAND              10320                  1951          5272  "
            ]
          },
          "metadata": {
            "tags": []
          },
          "execution_count": 61
        }
      ]
    },
    {
      "metadata": {
        "id": "8LM4wRVskqz-",
        "colab_type": "code",
        "colab": {}
      },
      "cell_type": "code",
      "source": [
        "# Output a generated CSV with the result to file '10_most_overall_Complaint types_for_Borough_2017.csv'\n",
        "\n",
        "temp_df.to_csv('10_most_overall_Complaint types_for_Borough_2017.csv', header = True)"
      ],
      "execution_count": 0,
      "outputs": []
    },
    {
      "metadata": {
        "id": "6vTCq4tBkq0H",
        "colab_type": "text"
      },
      "cell_type": "markdown",
      "source": [
        "###Part D - Find the 10 most populous zip codes that belong to boroughs of NYC from the US census data<br>\n",
        "The '2017 US Census Population'’ has zip codes with their corresponding population counts for all zip codes in the US; however, we need to extract the zip codes and respective populations that have matching zip code values in the  \"2017 Complaints \" CSV files.  One the zipcode values are matched up, take the greatest 10 as the 10 most populous zipcodes.  "
      ]
    },
    {
      "metadata": {
        "id": "bB0q57v3kq0J",
        "colab_type": "code",
        "outputId": "fa6fd5ad-c519-49c8-dd24-0289f24533bc",
        "colab": {
          "base_uri": "https://localhost:8080/",
          "height": 206
        }
      },
      "cell_type": "code",
      "source": [
        "# Read ZipCode_Population.csv to Pandas DataFrame zip_code_poplations\n",
        "\n",
        "zip_code_population = pd.read_csv('ZipCode_Population.csv', header = 0)\n",
        "zip_code_population.rename(columns = {'Zip Code ZCTA':'zip_code'}, inplace=True)\n",
        "zip_code_population.head()"
      ],
      "execution_count": 63,
      "outputs": [
        {
          "output_type": "execute_result",
          "data": {
            "text/html": [
              "<div>\n",
              "<style scoped>\n",
              "    .dataframe tbody tr th:only-of-type {\n",
              "        vertical-align: middle;\n",
              "    }\n",
              "\n",
              "    .dataframe tbody tr th {\n",
              "        vertical-align: top;\n",
              "    }\n",
              "\n",
              "    .dataframe thead th {\n",
              "        text-align: right;\n",
              "    }\n",
              "</style>\n",
              "<table border=\"1\" class=\"dataframe\">\n",
              "  <thead>\n",
              "    <tr style=\"text-align: right;\">\n",
              "      <th></th>\n",
              "      <th>zip_code</th>\n",
              "      <th>2017 Census Population</th>\n",
              "    </tr>\n",
              "  </thead>\n",
              "  <tbody>\n",
              "    <tr>\n",
              "      <th>0</th>\n",
              "      <td>1001</td>\n",
              "      <td>16769</td>\n",
              "    </tr>\n",
              "    <tr>\n",
              "      <th>1</th>\n",
              "      <td>1002</td>\n",
              "      <td>29049</td>\n",
              "    </tr>\n",
              "    <tr>\n",
              "      <th>2</th>\n",
              "      <td>1003</td>\n",
              "      <td>10372</td>\n",
              "    </tr>\n",
              "    <tr>\n",
              "      <th>3</th>\n",
              "      <td>1005</td>\n",
              "      <td>5079</td>\n",
              "    </tr>\n",
              "    <tr>\n",
              "      <th>4</th>\n",
              "      <td>1007</td>\n",
              "      <td>14649</td>\n",
              "    </tr>\n",
              "  </tbody>\n",
              "</table>\n",
              "</div>"
            ],
            "text/plain": [
              "   zip_code  2017 Census Population\n",
              "0      1001                   16769\n",
              "1      1002                   29049\n",
              "2      1003                   10372\n",
              "3      1005                    5079\n",
              "4      1007                   14649"
            ]
          },
          "metadata": {
            "tags": []
          },
          "execution_count": 63
        }
      ]
    },
    {
      "metadata": {
        "id": "uqx8WIiPkq0g",
        "colab_type": "code",
        "outputId": "e5bcdad1-5380-4ce3-a10f-7d831817fda8",
        "colab": {
          "base_uri": "https://localhost:8080/",
          "height": 72
        }
      },
      "cell_type": "code",
      "source": [
        "# Extract the list of all unique zip codes in the “Incident_zip” field\n",
        "\n",
        "all_unique_zip_codes = data['Incident Zip'].unique()\n",
        "all_unique_zip_codes[:20] #filter to 20 results"
      ],
      "execution_count": 64,
      "outputs": [
        {
          "output_type": "execute_result",
          "data": {
            "text/plain": [
              "array([11374, 11420, 11230, 10028, 10467, 10003, 11385, 11418, 10458,\n",
              "       11423, 11105, 10457, 11226, 10034, 10466, 11220, 11360, 10029,\n",
              "       11212, 11209])"
            ]
          },
          "metadata": {
            "tags": []
          },
          "execution_count": 64
        }
      ]
    },
    {
      "metadata": {
        "id": "X1OoVFtWkq0s",
        "colab_type": "code",
        "outputId": "02cc1559-0830-401c-f83e-c5dac6f5847c",
        "colab": {
          "base_uri": "https://localhost:8080/",
          "height": 35
        }
      },
      "cell_type": "code",
      "source": [
        "print ('number of all unique zip codes in the \"Incident_zip\" is: ', len(all_unique_zip_codes))"
      ],
      "execution_count": 65,
      "outputs": [
        {
          "output_type": "stream",
          "text": [
            "number of all unique zip codes in the \"Incident_zip\" is:  265\n"
          ],
          "name": "stdout"
        }
      ]
    },
    {
      "metadata": {
        "id": "4dpH3pAkkq07",
        "colab_type": "code",
        "outputId": "81b8e424-6848-4b11-927d-97383d5bfb9d",
        "colab": {
          "base_uri": "https://localhost:8080/",
          "height": 35
        }
      },
      "cell_type": "code",
      "source": [
        "# and match them up with the values from the ‘ZipCode_Population’ CSV.\n",
        "\n",
        "zip_code_population[zip_code_population.zip_code.isin(all_unique_zip_codes)].shape[0]"
      ],
      "execution_count": 66,
      "outputs": [
        {
          "output_type": "execute_result",
          "data": {
            "text/plain": [
              "216"
            ]
          },
          "metadata": {
            "tags": []
          },
          "execution_count": 66
        }
      ]
    },
    {
      "metadata": {
        "id": "HkPDeyuqkq1B",
        "colab_type": "text"
      },
      "cell_type": "markdown",
      "source": [
        "**! DataFrame 'zip_code_populations' contains only 216 zip-codes from 265 in DataFrame 'data' with Complaints**<br>\n",
        "we have to redefine the 10 most popular zip codes with this in mind "
      ]
    },
    {
      "metadata": {
        "id": "1iRRf-gZkq1G",
        "colab_type": "code",
        "outputId": "cf0535b4-475d-4212-d45c-915cb0df3614",
        "colab": {
          "base_uri": "https://localhost:8080/",
          "height": 363
        }
      },
      "cell_type": "code",
      "source": [
        "temp_df = zip_code_population[zip_code_population.zip_code.isin(all_unique_zip_codes)]\n",
        "temp_df.sort_values('2017 Census Population', ascending=False)[:10]\n",
        "#The 10 most populous zip codes are outputted below "
      ],
      "execution_count": 67,
      "outputs": [
        {
          "output_type": "execute_result",
          "data": {
            "text/html": [
              "<div>\n",
              "<style scoped>\n",
              "    .dataframe tbody tr th:only-of-type {\n",
              "        vertical-align: middle;\n",
              "    }\n",
              "\n",
              "    .dataframe tbody tr th {\n",
              "        vertical-align: top;\n",
              "    }\n",
              "\n",
              "    .dataframe thead th {\n",
              "        text-align: right;\n",
              "    }\n",
              "</style>\n",
              "<table border=\"1\" class=\"dataframe\">\n",
              "  <thead>\n",
              "    <tr style=\"text-align: right;\">\n",
              "      <th></th>\n",
              "      <th>zip_code</th>\n",
              "      <th>2017 Census Population</th>\n",
              "    </tr>\n",
              "  </thead>\n",
              "  <tbody>\n",
              "    <tr>\n",
              "      <th>2748</th>\n",
              "      <td>11368</td>\n",
              "      <td>109931</td>\n",
              "    </tr>\n",
              "    <tr>\n",
              "      <th>2720</th>\n",
              "      <td>11226</td>\n",
              "      <td>101572</td>\n",
              "    </tr>\n",
              "    <tr>\n",
              "      <th>2753</th>\n",
              "      <td>11373</td>\n",
              "      <td>100820</td>\n",
              "    </tr>\n",
              "    <tr>\n",
              "      <th>2714</th>\n",
              "      <td>11220</td>\n",
              "      <td>99598</td>\n",
              "    </tr>\n",
              "    <tr>\n",
              "      <th>2759</th>\n",
              "      <td>11385</td>\n",
              "      <td>98592</td>\n",
              "    </tr>\n",
              "    <tr>\n",
              "      <th>2527</th>\n",
              "      <td>10467</td>\n",
              "      <td>97060</td>\n",
              "    </tr>\n",
              "    <tr>\n",
              "      <th>2451</th>\n",
              "      <td>10025</td>\n",
              "      <td>94600</td>\n",
              "    </tr>\n",
              "    <tr>\n",
              "      <th>2702</th>\n",
              "      <td>11208</td>\n",
              "      <td>94469</td>\n",
              "    </tr>\n",
              "    <tr>\n",
              "      <th>2729</th>\n",
              "      <td>11236</td>\n",
              "      <td>93877</td>\n",
              "    </tr>\n",
              "    <tr>\n",
              "      <th>2701</th>\n",
              "      <td>11207</td>\n",
              "      <td>93386</td>\n",
              "    </tr>\n",
              "  </tbody>\n",
              "</table>\n",
              "</div>"
            ],
            "text/plain": [
              "      zip_code  2017 Census Population\n",
              "2748     11368                  109931\n",
              "2720     11226                  101572\n",
              "2753     11373                  100820\n",
              "2714     11220                   99598\n",
              "2759     11385                   98592\n",
              "2527     10467                   97060\n",
              "2451     10025                   94600\n",
              "2702     11208                   94469\n",
              "2729     11236                   93877\n",
              "2701     11207                   93386"
            ]
          },
          "metadata": {
            "tags": []
          },
          "execution_count": 67
        }
      ]
    },
    {
      "metadata": {
        "id": "jleq8ayboTP5",
        "colab_type": "code",
        "outputId": "aa1efa78-8a1b-442e-8040-52af276eb398",
        "colab": {
          "base_uri": "https://localhost:8080/",
          "height": 35
        }
      },
      "cell_type": "code",
      "source": [
        "# Let's make sure everything is done right and  look at the number of unique zip codes\n",
        "\n",
        "temp_df.zip_code.nunique()"
      ],
      "execution_count": 68,
      "outputs": [
        {
          "output_type": "execute_result",
          "data": {
            "text/plain": [
              "216"
            ]
          },
          "metadata": {
            "tags": []
          },
          "execution_count": 68
        }
      ]
    },
    {
      "metadata": {
        "id": "6mKzWZoWkq1L",
        "colab_type": "code",
        "colab": {}
      },
      "cell_type": "code",
      "source": [
        "# Let's make array with 10 most populous zip codes\n",
        "\n",
        "ten_most_populous_zip_codes = temp_df.sort_values('2017 Census Population', ascending=False)[:10]['zip_code'].values"
      ],
      "execution_count": 0,
      "outputs": []
    },
    {
      "metadata": {
        "id": "-pCrCJCJkq1U",
        "colab_type": "text"
      },
      "cell_type": "markdown",
      "source": [
        "###<b>Part E -  Consider only the 10 most common overall complaint types for the 10 most populous zip codes found in Part D, how many of each of those 10  complaint types were there in 2017 for each of the 10 most populous zip codes.?<br>"
      ]
    },
    {
      "metadata": {
        "id": "Pt6pSHK1kq1Y",
        "colab_type": "code",
        "outputId": "1346bb2f-2ec3-48e5-be96-20b27b542905",
        "colab": {
          "base_uri": "https://localhost:8080/",
          "height": 54
        }
      },
      "cell_type": "code",
      "source": [
        "print ('10 most populous zip codes in our data DataFrame with complaints: \\n', ten_most_populous_zip_codes )"
      ],
      "execution_count": 70,
      "outputs": [
        {
          "output_type": "stream",
          "text": [
            "10 most populous zip codes in our data DataFrame with complaints: \n",
            " [11368 11226 11373 11220 11385 10467 10025 11208 11236 11207]\n"
          ],
          "name": "stdout"
        }
      ]
    },
    {
      "metadata": {
        "id": "dqajhsoYkq1s",
        "colab_type": "code",
        "colab": {}
      },
      "cell_type": "code",
      "source": [
        "temp_df = data[(data['Complaint Type'].isin(common_top_10_complaintTypes)) & (data['Incident Zip'].isin(ten_most_populous_zip_codes))]"
      ],
      "execution_count": 0,
      "outputs": []
    },
    {
      "metadata": {
        "id": "xaLizASjkq10",
        "colab_type": "code",
        "outputId": "f4de4066-86c6-4d62-f3bc-deb092f5064c",
        "colab": {
          "base_uri": "https://localhost:8080/",
          "height": 206
        }
      },
      "cell_type": "code",
      "source": [
        "temp_df.head()"
      ],
      "execution_count": 72,
      "outputs": [
        {
          "output_type": "execute_result",
          "data": {
            "text/html": [
              "<div>\n",
              "<style scoped>\n",
              "    .dataframe tbody tr th:only-of-type {\n",
              "        vertical-align: middle;\n",
              "    }\n",
              "\n",
              "    .dataframe tbody tr th {\n",
              "        vertical-align: top;\n",
              "    }\n",
              "\n",
              "    .dataframe thead th {\n",
              "        text-align: right;\n",
              "    }\n",
              "</style>\n",
              "<table border=\"1\" class=\"dataframe\">\n",
              "  <thead>\n",
              "    <tr style=\"text-align: right;\">\n",
              "      <th></th>\n",
              "      <th>Created Date</th>\n",
              "      <th>Complaint Type</th>\n",
              "      <th>Incident Zip</th>\n",
              "      <th>Borough</th>\n",
              "    </tr>\n",
              "  </thead>\n",
              "  <tbody>\n",
              "    <tr>\n",
              "      <th>371</th>\n",
              "      <td>11/06/2017 05:33:00 PM</td>\n",
              "      <td>Noise</td>\n",
              "      <td>11385</td>\n",
              "      <td>QUEENS</td>\n",
              "    </tr>\n",
              "    <tr>\n",
              "      <th>574</th>\n",
              "      <td>10/30/2017 08:47:48 PM</td>\n",
              "      <td>UNSANITARY CONDITION</td>\n",
              "      <td>11373</td>\n",
              "      <td>QUEENS</td>\n",
              "    </tr>\n",
              "    <tr>\n",
              "      <th>621</th>\n",
              "      <td>12/29/2017 10:52:00 AM</td>\n",
              "      <td>Water System</td>\n",
              "      <td>11385</td>\n",
              "      <td>QUEENS</td>\n",
              "    </tr>\n",
              "    <tr>\n",
              "      <th>709</th>\n",
              "      <td>04/28/2017 05:02:48 AM</td>\n",
              "      <td>UNSANITARY CONDITION</td>\n",
              "      <td>11368</td>\n",
              "      <td>QUEENS</td>\n",
              "    </tr>\n",
              "    <tr>\n",
              "      <th>710</th>\n",
              "      <td>04/28/2017 05:02:48 AM</td>\n",
              "      <td>UNSANITARY CONDITION</td>\n",
              "      <td>11368</td>\n",
              "      <td>QUEENS</td>\n",
              "    </tr>\n",
              "  </tbody>\n",
              "</table>\n",
              "</div>"
            ],
            "text/plain": [
              "               Created Date        Complaint Type  Incident Zip Borough\n",
              "371  11/06/2017 05:33:00 PM                 Noise         11385  QUEENS\n",
              "574  10/30/2017 08:47:48 PM  UNSANITARY CONDITION         11373  QUEENS\n",
              "621  12/29/2017 10:52:00 AM          Water System         11385  QUEENS\n",
              "709  04/28/2017 05:02:48 AM  UNSANITARY CONDITION         11368  QUEENS\n",
              "710  04/28/2017 05:02:48 AM  UNSANITARY CONDITION         11368  QUEENS"
            ]
          },
          "metadata": {
            "tags": []
          },
          "execution_count": 72
        }
      ]
    },
    {
      "metadata": {
        "id": "oponyRpIkq2G",
        "colab_type": "code",
        "colab": {}
      },
      "cell_type": "code",
      "source": [
        "# These are our values, which should = to a 100.  \n",
        "\n",
        "temp_df = temp_df.groupby(['Incident Zip'])['Complaint Type'].value_counts().unstack()"
      ],
      "execution_count": 0,
      "outputs": []
    },
    {
      "metadata": {
        "id": "P8b_FrXdosWK",
        "colab_type": "code",
        "outputId": "5f1823da-ba35-462d-b17d-7626ab116370",
        "colab": {
          "base_uri": "https://localhost:8080/",
          "height": 395
        }
      },
      "cell_type": "code",
      "source": [
        "temp_df"
      ],
      "execution_count": 74,
      "outputs": [
        {
          "output_type": "execute_result",
          "data": {
            "text/html": [
              "<div>\n",
              "<style scoped>\n",
              "    .dataframe tbody tr th:only-of-type {\n",
              "        vertical-align: middle;\n",
              "    }\n",
              "\n",
              "    .dataframe tbody tr th {\n",
              "        vertical-align: top;\n",
              "    }\n",
              "\n",
              "    .dataframe thead th {\n",
              "        text-align: right;\n",
              "    }\n",
              "</style>\n",
              "<table border=\"1\" class=\"dataframe\">\n",
              "  <thead>\n",
              "    <tr style=\"text-align: right;\">\n",
              "      <th>Complaint Type</th>\n",
              "      <th>Blocked Driveway</th>\n",
              "      <th>HEAT/HOT WATER</th>\n",
              "      <th>Illegal Parking</th>\n",
              "      <th>Noise</th>\n",
              "      <th>Noise - Residential</th>\n",
              "      <th>Noise - Street/Sidewalk</th>\n",
              "      <th>PAINT/PLASTER</th>\n",
              "      <th>Street Condition</th>\n",
              "      <th>UNSANITARY CONDITION</th>\n",
              "      <th>Water System</th>\n",
              "    </tr>\n",
              "    <tr>\n",
              "      <th>Incident Zip</th>\n",
              "      <th></th>\n",
              "      <th></th>\n",
              "      <th></th>\n",
              "      <th></th>\n",
              "      <th></th>\n",
              "      <th></th>\n",
              "      <th></th>\n",
              "      <th></th>\n",
              "      <th></th>\n",
              "      <th></th>\n",
              "    </tr>\n",
              "  </thead>\n",
              "  <tbody>\n",
              "    <tr>\n",
              "      <th>10025</th>\n",
              "      <td>125</td>\n",
              "      <td>2397</td>\n",
              "      <td>735</td>\n",
              "      <td>1398</td>\n",
              "      <td>2085</td>\n",
              "      <td>1224</td>\n",
              "      <td>604</td>\n",
              "      <td>628</td>\n",
              "      <td>714</td>\n",
              "      <td>481</td>\n",
              "    </tr>\n",
              "    <tr>\n",
              "      <th>10467</th>\n",
              "      <td>2067</td>\n",
              "      <td>6041</td>\n",
              "      <td>982</td>\n",
              "      <td>285</td>\n",
              "      <td>5803</td>\n",
              "      <td>712</td>\n",
              "      <td>1955</td>\n",
              "      <td>612</td>\n",
              "      <td>2192</td>\n",
              "      <td>560</td>\n",
              "    </tr>\n",
              "    <tr>\n",
              "      <th>11207</th>\n",
              "      <td>2061</td>\n",
              "      <td>2461</td>\n",
              "      <td>1495</td>\n",
              "      <td>199</td>\n",
              "      <td>3060</td>\n",
              "      <td>558</td>\n",
              "      <td>1055</td>\n",
              "      <td>1142</td>\n",
              "      <td>1621</td>\n",
              "      <td>757</td>\n",
              "    </tr>\n",
              "    <tr>\n",
              "      <th>11208</th>\n",
              "      <td>2751</td>\n",
              "      <td>2052</td>\n",
              "      <td>2148</td>\n",
              "      <td>188</td>\n",
              "      <td>2792</td>\n",
              "      <td>825</td>\n",
              "      <td>800</td>\n",
              "      <td>816</td>\n",
              "      <td>1341</td>\n",
              "      <td>710</td>\n",
              "    </tr>\n",
              "    <tr>\n",
              "      <th>11220</th>\n",
              "      <td>1558</td>\n",
              "      <td>1634</td>\n",
              "      <td>2012</td>\n",
              "      <td>442</td>\n",
              "      <td>1522</td>\n",
              "      <td>498</td>\n",
              "      <td>506</td>\n",
              "      <td>690</td>\n",
              "      <td>719</td>\n",
              "      <td>674</td>\n",
              "    </tr>\n",
              "    <tr>\n",
              "      <th>11226</th>\n",
              "      <td>2200</td>\n",
              "      <td>7569</td>\n",
              "      <td>1073</td>\n",
              "      <td>440</td>\n",
              "      <td>4852</td>\n",
              "      <td>1831</td>\n",
              "      <td>2639</td>\n",
              "      <td>491</td>\n",
              "      <td>3155</td>\n",
              "      <td>406</td>\n",
              "    </tr>\n",
              "    <tr>\n",
              "      <th>11236</th>\n",
              "      <td>3038</td>\n",
              "      <td>1145</td>\n",
              "      <td>1430</td>\n",
              "      <td>108</td>\n",
              "      <td>1929</td>\n",
              "      <td>201</td>\n",
              "      <td>347</td>\n",
              "      <td>1021</td>\n",
              "      <td>562</td>\n",
              "      <td>623</td>\n",
              "    </tr>\n",
              "    <tr>\n",
              "      <th>11368</th>\n",
              "      <td>4380</td>\n",
              "      <td>1620</td>\n",
              "      <td>1250</td>\n",
              "      <td>158</td>\n",
              "      <td>2460</td>\n",
              "      <td>684</td>\n",
              "      <td>361</td>\n",
              "      <td>561</td>\n",
              "      <td>639</td>\n",
              "      <td>617</td>\n",
              "    </tr>\n",
              "    <tr>\n",
              "      <th>11373</th>\n",
              "      <td>2623</td>\n",
              "      <td>3408</td>\n",
              "      <td>1270</td>\n",
              "      <td>270</td>\n",
              "      <td>1841</td>\n",
              "      <td>304</td>\n",
              "      <td>265</td>\n",
              "      <td>691</td>\n",
              "      <td>756</td>\n",
              "      <td>372</td>\n",
              "    </tr>\n",
              "    <tr>\n",
              "      <th>11385</th>\n",
              "      <td>3039</td>\n",
              "      <td>1526</td>\n",
              "      <td>4129</td>\n",
              "      <td>507</td>\n",
              "      <td>2609</td>\n",
              "      <td>607</td>\n",
              "      <td>352</td>\n",
              "      <td>1232</td>\n",
              "      <td>647</td>\n",
              "      <td>1240</td>\n",
              "    </tr>\n",
              "  </tbody>\n",
              "</table>\n",
              "</div>"
            ],
            "text/plain": [
              "Complaint Type  Blocked Driveway  HEAT/HOT WATER  Illegal Parking  Noise  \\\n",
              "Incident Zip                                                               \n",
              "10025                        125            2397              735   1398   \n",
              "10467                       2067            6041              982    285   \n",
              "11207                       2061            2461             1495    199   \n",
              "11208                       2751            2052             2148    188   \n",
              "11220                       1558            1634             2012    442   \n",
              "11226                       2200            7569             1073    440   \n",
              "11236                       3038            1145             1430    108   \n",
              "11368                       4380            1620             1250    158   \n",
              "11373                       2623            3408             1270    270   \n",
              "11385                       3039            1526             4129    507   \n",
              "\n",
              "Complaint Type  Noise - Residential  Noise - Street/Sidewalk  PAINT/PLASTER  \\\n",
              "Incident Zip                                                                  \n",
              "10025                          2085                     1224            604   \n",
              "10467                          5803                      712           1955   \n",
              "11207                          3060                      558           1055   \n",
              "11208                          2792                      825            800   \n",
              "11220                          1522                      498            506   \n",
              "11226                          4852                     1831           2639   \n",
              "11236                          1929                      201            347   \n",
              "11368                          2460                      684            361   \n",
              "11373                          1841                      304            265   \n",
              "11385                          2609                      607            352   \n",
              "\n",
              "Complaint Type  Street Condition  UNSANITARY CONDITION  Water System  \n",
              "Incident Zip                                                          \n",
              "10025                        628                   714           481  \n",
              "10467                        612                  2192           560  \n",
              "11207                       1142                  1621           757  \n",
              "11208                        816                  1341           710  \n",
              "11220                        690                   719           674  \n",
              "11226                        491                  3155           406  \n",
              "11236                       1021                   562           623  \n",
              "11368                        561                   639           617  \n",
              "11373                        691                   756           372  \n",
              "11385                       1232                   647          1240  "
            ]
          },
          "metadata": {
            "tags": []
          },
          "execution_count": 74
        }
      ]
    },
    {
      "metadata": {
        "id": "5r5iAzePnpOG",
        "colab_type": "code",
        "outputId": "8caf7483-de16-4e0a-c5f7-989391331652",
        "colab": {
          "base_uri": "https://localhost:8080/",
          "height": 738
        }
      },
      "cell_type": "code",
      "source": [
        "temp_df[temp_df.columns].plot.bar(stacked=True, figsize = [12, 12])\n",
        "plt.title('Scores by Complaint Type and zip codes', fontsize=16)\n",
        "plt.xlabel('10 most populous zip codes', rotation=0, fontsize=14)\n",
        "plt.ylabel('Scores', rotation=0, fontsize=14)\n",
        "plt.xticks( rotation=0, fontsize=12)\n",
        "plt.yticks( rotation=0, fontsize=12)\n",
        "plt.legend(fontsize=12, loc = 1)\n",
        "plt.show()"
      ],
      "execution_count": 75,
      "outputs": [
        {
          "output_type": "display_data",
          "data": {
            "image/png": "[encoded data removed]",
            "text/plain": [
              "<matplotlib.figure.Figure at 0x7f1fcf3699b0>"
            ]
          },
          "metadata": {
            "tags": []
          }
        }
      ]
    },
    {
      "metadata": {
        "id": "J_bzM9Vhkq2P",
        "colab_type": "text"
      },
      "cell_type": "markdown",
      "source": [
        "###Part F - Considering all complaint types. Which boroughs are the biggest \"complainers\" relative to the size of the population in 2017? Meaning, calculate a complaint-index that adjusts for population of the borough."
      ]
    },
    {
      "metadata": {
        "id": "1NCHCqhJkq2Q",
        "colab_type": "code",
        "outputId": "c630a730-c7a2-4ae4-db53-d5be84d6e73c",
        "colab": {
          "base_uri": "https://localhost:8080/",
          "height": 206
        }
      },
      "cell_type": "code",
      "source": [
        "data.head()"
      ],
      "execution_count": 76,
      "outputs": [
        {
          "output_type": "execute_result",
          "data": {
            "text/html": [
              "<div>\n",
              "<style scoped>\n",
              "    .dataframe tbody tr th:only-of-type {\n",
              "        vertical-align: middle;\n",
              "    }\n",
              "\n",
              "    .dataframe tbody tr th {\n",
              "        vertical-align: top;\n",
              "    }\n",
              "\n",
              "    .dataframe thead th {\n",
              "        text-align: right;\n",
              "    }\n",
              "</style>\n",
              "<table border=\"1\" class=\"dataframe\">\n",
              "  <thead>\n",
              "    <tr style=\"text-align: right;\">\n",
              "      <th></th>\n",
              "      <th>Created Date</th>\n",
              "      <th>Complaint Type</th>\n",
              "      <th>Incident Zip</th>\n",
              "      <th>Borough</th>\n",
              "    </tr>\n",
              "  </thead>\n",
              "  <tbody>\n",
              "    <tr>\n",
              "      <th>0</th>\n",
              "      <td>09/14/2017 04:40:33 PM</td>\n",
              "      <td>New Tree Request</td>\n",
              "      <td>11374</td>\n",
              "      <td>QUEENS</td>\n",
              "    </tr>\n",
              "    <tr>\n",
              "      <th>1</th>\n",
              "      <td>03/18/2017 10:09:57 AM</td>\n",
              "      <td>General Construction/Plumbing</td>\n",
              "      <td>11420</td>\n",
              "      <td>QUEENS</td>\n",
              "    </tr>\n",
              "    <tr>\n",
              "      <th>2</th>\n",
              "      <td>03/29/2017 12:38:28 PM</td>\n",
              "      <td>General Construction/Plumbing</td>\n",
              "      <td>11230</td>\n",
              "      <td>BROOKLYN</td>\n",
              "    </tr>\n",
              "    <tr>\n",
              "      <th>3</th>\n",
              "      <td>06/05/2017 12:47:55 PM</td>\n",
              "      <td>New Tree Request</td>\n",
              "      <td>10028</td>\n",
              "      <td>MANHATTAN</td>\n",
              "    </tr>\n",
              "    <tr>\n",
              "      <th>4</th>\n",
              "      <td>06/15/2017 11:56:36 AM</td>\n",
              "      <td>Dead/Dying Tree</td>\n",
              "      <td>10467</td>\n",
              "      <td>BRONX</td>\n",
              "    </tr>\n",
              "  </tbody>\n",
              "</table>\n",
              "</div>"
            ],
            "text/plain": [
              "             Created Date                 Complaint Type  Incident Zip  \\\n",
              "0  09/14/2017 04:40:33 PM               New Tree Request         11374   \n",
              "1  03/18/2017 10:09:57 AM  General Construction/Plumbing         11420   \n",
              "2  03/29/2017 12:38:28 PM  General Construction/Plumbing         11230   \n",
              "3  06/05/2017 12:47:55 PM               New Tree Request         10028   \n",
              "4  06/15/2017 11:56:36 AM                Dead/Dying Tree         10467   \n",
              "\n",
              "     Borough  \n",
              "0     QUEENS  \n",
              "1     QUEENS  \n",
              "2   BROOKLYN  \n",
              "3  MANHATTAN  \n",
              "4      BRONX  "
            ]
          },
          "metadata": {
            "tags": []
          },
          "execution_count": 76
        }
      ]
    },
    {
      "metadata": {
        "id": "tTlELKO7ttji",
        "colab_type": "code",
        "outputId": "dc70819b-96d6-43dd-a7d3-37f8fe61e395",
        "colab": {
          "base_uri": "https://localhost:8080/",
          "height": 206
        }
      },
      "cell_type": "code",
      "source": [
        "# From the data DataFrame calculate the total number of complaints by borough\n",
        "\n",
        "total_complaints_df = data['Borough'].value_counts().to_frame()\n",
        "total_complaints_df.rename(columns={'Borough':'Total_complaints_number'}, inplace= True)\n",
        "total_complaints_df.head()"
      ],
      "execution_count": 77,
      "outputs": [
        {
          "output_type": "execute_result",
          "data": {
            "text/html": [
              "<div>\n",
              "<style scoped>\n",
              "    .dataframe tbody tr th:only-of-type {\n",
              "        vertical-align: middle;\n",
              "    }\n",
              "\n",
              "    .dataframe tbody tr th {\n",
              "        vertical-align: top;\n",
              "    }\n",
              "\n",
              "    .dataframe thead th {\n",
              "        text-align: right;\n",
              "    }\n",
              "</style>\n",
              "<table border=\"1\" class=\"dataframe\">\n",
              "  <thead>\n",
              "    <tr style=\"text-align: right;\">\n",
              "      <th></th>\n",
              "      <th>Total_complaints_number</th>\n",
              "    </tr>\n",
              "  </thead>\n",
              "  <tbody>\n",
              "    <tr>\n",
              "      <th>BROOKLYN</th>\n",
              "      <td>746347</td>\n",
              "    </tr>\n",
              "    <tr>\n",
              "      <th>QUEENS</th>\n",
              "      <td>571670</td>\n",
              "    </tr>\n",
              "    <tr>\n",
              "      <th>MANHATTAN</th>\n",
              "      <td>462356</td>\n",
              "    </tr>\n",
              "    <tr>\n",
              "      <th>BRONX</th>\n",
              "      <td>433008</td>\n",
              "    </tr>\n",
              "    <tr>\n",
              "      <th>STATEN ISLAND</th>\n",
              "      <td>125512</td>\n",
              "    </tr>\n",
              "  </tbody>\n",
              "</table>\n",
              "</div>"
            ],
            "text/plain": [
              "               Total_complaints_number\n",
              "BROOKLYN                        746347\n",
              "QUEENS                          571670\n",
              "MANHATTAN                       462356\n",
              "BRONX                           433008\n",
              "STATEN ISLAND                   125512"
            ]
          },
          "metadata": {
            "tags": []
          },
          "execution_count": 77
        }
      ]
    },
    {
      "metadata": {
        "id": "uNkjNbeukq2g",
        "colab_type": "code",
        "outputId": "2000f06f-1a18-40e5-e438-570d06323d24",
        "colab": {
          "base_uri": "https://localhost:8080/",
          "height": 262
        }
      },
      "cell_type": "code",
      "source": [
        "# Lets calculate the quantity of Borough's populations\n",
        "\n",
        "temp_df = data[['Incident Zip','Borough']]\n",
        "temp_df.rename(columns = {'Incident Zip' : 'zip_code'}, inplace=True)\n",
        "temp_df.drop_duplicates(['zip_code'], inplace = True)\n",
        "\n",
        "display(temp_df.head())\n",
        "print (\"\\nDataFrame's temp_df shape is \", temp_df.shape)\n",
        "print (\"Number unique zip code in temp_df DataFrame is \", temp_df.zip_code.nunique())"
      ],
      "execution_count": 78,
      "outputs": [
        {
          "output_type": "display_data",
          "data": {
            "text/html": [
              "<div>\n",
              "<style scoped>\n",
              "    .dataframe tbody tr th:only-of-type {\n",
              "        vertical-align: middle;\n",
              "    }\n",
              "\n",
              "    .dataframe tbody tr th {\n",
              "        vertical-align: top;\n",
              "    }\n",
              "\n",
              "    .dataframe thead th {\n",
              "        text-align: right;\n",
              "    }\n",
              "</style>\n",
              "<table border=\"1\" class=\"dataframe\">\n",
              "  <thead>\n",
              "    <tr style=\"text-align: right;\">\n",
              "      <th></th>\n",
              "      <th>zip_code</th>\n",
              "      <th>Borough</th>\n",
              "    </tr>\n",
              "  </thead>\n",
              "  <tbody>\n",
              "    <tr>\n",
              "      <th>0</th>\n",
              "      <td>11374</td>\n",
              "      <td>QUEENS</td>\n",
              "    </tr>\n",
              "    <tr>\n",
              "      <th>1</th>\n",
              "      <td>11420</td>\n",
              "      <td>QUEENS</td>\n",
              "    </tr>\n",
              "    <tr>\n",
              "      <th>2</th>\n",
              "      <td>11230</td>\n",
              "      <td>BROOKLYN</td>\n",
              "    </tr>\n",
              "    <tr>\n",
              "      <th>3</th>\n",
              "      <td>10028</td>\n",
              "      <td>MANHATTAN</td>\n",
              "    </tr>\n",
              "    <tr>\n",
              "      <th>4</th>\n",
              "      <td>10467</td>\n",
              "      <td>BRONX</td>\n",
              "    </tr>\n",
              "  </tbody>\n",
              "</table>\n",
              "</div>"
            ],
            "text/plain": [
              "   zip_code    Borough\n",
              "0     11374     QUEENS\n",
              "1     11420     QUEENS\n",
              "2     11230   BROOKLYN\n",
              "3     10028  MANHATTAN\n",
              "4     10467      BRONX"
            ]
          },
          "metadata": {
            "tags": []
          }
        },
        {
          "output_type": "stream",
          "text": [
            "\n",
            "DataFrame's temp_df shape is  (265, 2)\n",
            "Number unique zip code in temp_df DataFrame is  265\n"
          ],
          "name": "stdout"
        }
      ]
    },
    {
      "metadata": {
        "id": "YQaZvMIRkq2m",
        "colab_type": "code",
        "outputId": "2bbc211f-2fe8-41c1-df92-68c4a0655b86",
        "colab": {
          "base_uri": "https://localhost:8080/",
          "height": 112
        }
      },
      "cell_type": "code",
      "source": [
        "zip_code_population.head(2)"
      ],
      "execution_count": 79,
      "outputs": [
        {
          "output_type": "execute_result",
          "data": {
            "text/html": [
              "<div>\n",
              "<style scoped>\n",
              "    .dataframe tbody tr th:only-of-type {\n",
              "        vertical-align: middle;\n",
              "    }\n",
              "\n",
              "    .dataframe tbody tr th {\n",
              "        vertical-align: top;\n",
              "    }\n",
              "\n",
              "    .dataframe thead th {\n",
              "        text-align: right;\n",
              "    }\n",
              "</style>\n",
              "<table border=\"1\" class=\"dataframe\">\n",
              "  <thead>\n",
              "    <tr style=\"text-align: right;\">\n",
              "      <th></th>\n",
              "      <th>zip_code</th>\n",
              "      <th>2017 Census Population</th>\n",
              "    </tr>\n",
              "  </thead>\n",
              "  <tbody>\n",
              "    <tr>\n",
              "      <th>0</th>\n",
              "      <td>1001</td>\n",
              "      <td>16769</td>\n",
              "    </tr>\n",
              "    <tr>\n",
              "      <th>1</th>\n",
              "      <td>1002</td>\n",
              "      <td>29049</td>\n",
              "    </tr>\n",
              "  </tbody>\n",
              "</table>\n",
              "</div>"
            ],
            "text/plain": [
              "   zip_code  2017 Census Population\n",
              "0      1001                   16769\n",
              "1      1002                   29049"
            ]
          },
          "metadata": {
            "tags": []
          },
          "execution_count": 79
        }
      ]
    },
    {
      "metadata": {
        "id": "npIXnmiAkq2t",
        "colab_type": "code",
        "outputId": "e839a9ee-c357-425d-febd-1684e5d7b61e",
        "colab": {
          "base_uri": "https://localhost:8080/",
          "height": 206
        }
      },
      "cell_type": "code",
      "source": [
        "temp_df = pd.merge(temp_df, zip_code_population, how = 'left', on= 'zip_code' )\n",
        "temp_df['2017 Census Population'].fillna(0, inplace=True)\n",
        "temp_df.head()"
      ],
      "execution_count": 80,
      "outputs": [
        {
          "output_type": "execute_result",
          "data": {
            "text/html": [
              "<div>\n",
              "<style scoped>\n",
              "    .dataframe tbody tr th:only-of-type {\n",
              "        vertical-align: middle;\n",
              "    }\n",
              "\n",
              "    .dataframe tbody tr th {\n",
              "        vertical-align: top;\n",
              "    }\n",
              "\n",
              "    .dataframe thead th {\n",
              "        text-align: right;\n",
              "    }\n",
              "</style>\n",
              "<table border=\"1\" class=\"dataframe\">\n",
              "  <thead>\n",
              "    <tr style=\"text-align: right;\">\n",
              "      <th></th>\n",
              "      <th>zip_code</th>\n",
              "      <th>Borough</th>\n",
              "      <th>2017 Census Population</th>\n",
              "    </tr>\n",
              "  </thead>\n",
              "  <tbody>\n",
              "    <tr>\n",
              "      <th>0</th>\n",
              "      <td>11374</td>\n",
              "      <td>QUEENS</td>\n",
              "      <td>43600.0</td>\n",
              "    </tr>\n",
              "    <tr>\n",
              "      <th>1</th>\n",
              "      <td>11420</td>\n",
              "      <td>QUEENS</td>\n",
              "      <td>44354.0</td>\n",
              "    </tr>\n",
              "    <tr>\n",
              "      <th>2</th>\n",
              "      <td>11230</td>\n",
              "      <td>BROOKLYN</td>\n",
              "      <td>86408.0</td>\n",
              "    </tr>\n",
              "    <tr>\n",
              "      <th>3</th>\n",
              "      <td>10028</td>\n",
              "      <td>MANHATTAN</td>\n",
              "      <td>45141.0</td>\n",
              "    </tr>\n",
              "    <tr>\n",
              "      <th>4</th>\n",
              "      <td>10467</td>\n",
              "      <td>BRONX</td>\n",
              "      <td>97060.0</td>\n",
              "    </tr>\n",
              "  </tbody>\n",
              "</table>\n",
              "</div>"
            ],
            "text/plain": [
              "   zip_code    Borough  2017 Census Population\n",
              "0     11374     QUEENS                 43600.0\n",
              "1     11420     QUEENS                 44354.0\n",
              "2     11230   BROOKLYN                 86408.0\n",
              "3     10028  MANHATTAN                 45141.0\n",
              "4     10467      BRONX                 97060.0"
            ]
          },
          "metadata": {
            "tags": []
          },
          "execution_count": 80
        }
      ]
    },
    {
      "metadata": {
        "id": "SNqJULaQkq2w",
        "colab_type": "code",
        "outputId": "a1a4d4ba-dd45-4a47-9105-3170c14c7119",
        "colab": {
          "base_uri": "https://localhost:8080/",
          "height": 238
        }
      },
      "cell_type": "code",
      "source": [
        "# Final dataset with quantity populations of Boroughs\n",
        "\n",
        "borough_population_df = temp_df[['Borough', '2017 Census Population']].groupby('Borough')['2017 Census Population'].sum().to_frame()\n",
        "borough_population_df.head()"
      ],
      "execution_count": 81,
      "outputs": [
        {
          "output_type": "execute_result",
          "data": {
            "text/html": [
              "<div>\n",
              "<style scoped>\n",
              "    .dataframe tbody tr th:only-of-type {\n",
              "        vertical-align: middle;\n",
              "    }\n",
              "\n",
              "    .dataframe tbody tr th {\n",
              "        vertical-align: top;\n",
              "    }\n",
              "\n",
              "    .dataframe thead th {\n",
              "        text-align: right;\n",
              "    }\n",
              "</style>\n",
              "<table border=\"1\" class=\"dataframe\">\n",
              "  <thead>\n",
              "    <tr style=\"text-align: right;\">\n",
              "      <th></th>\n",
              "      <th>2017 Census Population</th>\n",
              "    </tr>\n",
              "    <tr>\n",
              "      <th>Borough</th>\n",
              "      <th></th>\n",
              "    </tr>\n",
              "  </thead>\n",
              "  <tbody>\n",
              "    <tr>\n",
              "      <th>BRONX</th>\n",
              "      <td>1437243.0</td>\n",
              "    </tr>\n",
              "    <tr>\n",
              "      <th>BROOKLYN</th>\n",
              "      <td>2504700.0</td>\n",
              "    </tr>\n",
              "    <tr>\n",
              "      <th>MANHATTAN</th>\n",
              "      <td>1595338.0</td>\n",
              "    </tr>\n",
              "    <tr>\n",
              "      <th>QUEENS</th>\n",
              "      <td>2390901.0</td>\n",
              "    </tr>\n",
              "    <tr>\n",
              "      <th>STATEN ISLAND</th>\n",
              "      <td>468730.0</td>\n",
              "    </tr>\n",
              "  </tbody>\n",
              "</table>\n",
              "</div>"
            ],
            "text/plain": [
              "               2017 Census Population\n",
              "Borough                              \n",
              "BRONX                       1437243.0\n",
              "BROOKLYN                    2504700.0\n",
              "MANHATTAN                   1595338.0\n",
              "QUEENS                      2390901.0\n",
              "STATEN ISLAND                468730.0"
            ]
          },
          "metadata": {
            "tags": []
          },
          "execution_count": 81
        }
      ]
    },
    {
      "metadata": {
        "id": "Q46q9sh5kq26",
        "colab_type": "code",
        "outputId": "cadcde38-79b1-4955-a119-a7157a59c877",
        "colab": {
          "base_uri": "https://localhost:8080/",
          "height": 238
        }
      },
      "cell_type": "code",
      "source": [
        "# Let's merge two DataFrames\n",
        "\n",
        "complaint_index_df = pd.merge(borough_population_df, total_complaints_df, how = 'left', left_index=True, right_index=True)\n",
        "complaint_index_df['2017 Census Population'] = complaint_index_df['2017 Census Population'].astype('int')\n",
        "complaint_index_df.head()"
      ],
      "execution_count": 82,
      "outputs": [
        {
          "output_type": "execute_result",
          "data": {
            "text/html": [
              "<div>\n",
              "<style scoped>\n",
              "    .dataframe tbody tr th:only-of-type {\n",
              "        vertical-align: middle;\n",
              "    }\n",
              "\n",
              "    .dataframe tbody tr th {\n",
              "        vertical-align: top;\n",
              "    }\n",
              "\n",
              "    .dataframe thead th {\n",
              "        text-align: right;\n",
              "    }\n",
              "</style>\n",
              "<table border=\"1\" class=\"dataframe\">\n",
              "  <thead>\n",
              "    <tr style=\"text-align: right;\">\n",
              "      <th></th>\n",
              "      <th>2017 Census Population</th>\n",
              "      <th>Total_complaints_number</th>\n",
              "    </tr>\n",
              "    <tr>\n",
              "      <th>Borough</th>\n",
              "      <th></th>\n",
              "      <th></th>\n",
              "    </tr>\n",
              "  </thead>\n",
              "  <tbody>\n",
              "    <tr>\n",
              "      <th>BRONX</th>\n",
              "      <td>1437243</td>\n",
              "      <td>433008</td>\n",
              "    </tr>\n",
              "    <tr>\n",
              "      <th>BROOKLYN</th>\n",
              "      <td>2504700</td>\n",
              "      <td>746347</td>\n",
              "    </tr>\n",
              "    <tr>\n",
              "      <th>MANHATTAN</th>\n",
              "      <td>1595338</td>\n",
              "      <td>462356</td>\n",
              "    </tr>\n",
              "    <tr>\n",
              "      <th>QUEENS</th>\n",
              "      <td>2390901</td>\n",
              "      <td>571670</td>\n",
              "    </tr>\n",
              "    <tr>\n",
              "      <th>STATEN ISLAND</th>\n",
              "      <td>468730</td>\n",
              "      <td>125512</td>\n",
              "    </tr>\n",
              "  </tbody>\n",
              "</table>\n",
              "</div>"
            ],
            "text/plain": [
              "               2017 Census Population  Total_complaints_number\n",
              "Borough                                                       \n",
              "BRONX                         1437243                   433008\n",
              "BROOKLYN                      2504700                   746347\n",
              "MANHATTAN                     1595338                   462356\n",
              "QUEENS                        2390901                   571670\n",
              "STATEN ISLAND                  468730                   125512"
            ]
          },
          "metadata": {
            "tags": []
          },
          "execution_count": 82
        }
      ]
    },
    {
      "metadata": {
        "id": "hU_GcDkTkq2-",
        "colab_type": "code",
        "outputId": "1359f39d-e5f2-4fcb-f695-6fd1007bba5a",
        "colab": {
          "base_uri": "https://localhost:8080/",
          "height": 238
        }
      },
      "cell_type": "code",
      "source": [
        "# And calculate complaint ratio to the size of the population of each borough \n",
        "\n",
        "complaint_index_df['ratio']= complaint_index_df['Total_complaints_number']/complaint_index_df['2017 Census Population']\n",
        "complaint_index_df.sort_values('ratio', ascending=False).head()"
      ],
      "execution_count": 83,
      "outputs": [
        {
          "output_type": "execute_result",
          "data": {
            "text/html": [
              "<div>\n",
              "<style scoped>\n",
              "    .dataframe tbody tr th:only-of-type {\n",
              "        vertical-align: middle;\n",
              "    }\n",
              "\n",
              "    .dataframe tbody tr th {\n",
              "        vertical-align: top;\n",
              "    }\n",
              "\n",
              "    .dataframe thead th {\n",
              "        text-align: right;\n",
              "    }\n",
              "</style>\n",
              "<table border=\"1\" class=\"dataframe\">\n",
              "  <thead>\n",
              "    <tr style=\"text-align: right;\">\n",
              "      <th></th>\n",
              "      <th>2017 Census Population</th>\n",
              "      <th>Total_complaints_number</th>\n",
              "      <th>ratio</th>\n",
              "    </tr>\n",
              "    <tr>\n",
              "      <th>Borough</th>\n",
              "      <th></th>\n",
              "      <th></th>\n",
              "      <th></th>\n",
              "    </tr>\n",
              "  </thead>\n",
              "  <tbody>\n",
              "    <tr>\n",
              "      <th>BRONX</th>\n",
              "      <td>1437243</td>\n",
              "      <td>433008</td>\n",
              "      <td>0.301277</td>\n",
              "    </tr>\n",
              "    <tr>\n",
              "      <th>BROOKLYN</th>\n",
              "      <td>2504700</td>\n",
              "      <td>746347</td>\n",
              "      <td>0.297979</td>\n",
              "    </tr>\n",
              "    <tr>\n",
              "      <th>MANHATTAN</th>\n",
              "      <td>1595338</td>\n",
              "      <td>462356</td>\n",
              "      <td>0.289817</td>\n",
              "    </tr>\n",
              "    <tr>\n",
              "      <th>STATEN ISLAND</th>\n",
              "      <td>468730</td>\n",
              "      <td>125512</td>\n",
              "      <td>0.267770</td>\n",
              "    </tr>\n",
              "    <tr>\n",
              "      <th>QUEENS</th>\n",
              "      <td>2390901</td>\n",
              "      <td>571670</td>\n",
              "      <td>0.239102</td>\n",
              "    </tr>\n",
              "  </tbody>\n",
              "</table>\n",
              "</div>"
            ],
            "text/plain": [
              "               2017 Census Population  Total_complaints_number     ratio\n",
              "Borough                                                                 \n",
              "BRONX                         1437243                   433008  0.301277\n",
              "BROOKLYN                      2504700                   746347  0.297979\n",
              "MANHATTAN                     1595338                   462356  0.289817\n",
              "STATEN ISLAND                  468730                   125512  0.267770\n",
              "QUEENS                        2390901                   571670  0.239102"
            ]
          },
          "metadata": {
            "tags": []
          },
          "execution_count": 83
        }
      ]
    },
    {
      "metadata": {
        "id": "FsBgT6P9DKdK",
        "colab_type": "code",
        "outputId": "b3fb3bc2-d559-4352-87ca-53f62b5170f8",
        "colab": {
          "base_uri": "https://localhost:8080/",
          "height": 519
        }
      },
      "cell_type": "code",
      "source": [
        "complaint_index_df['ratio'].plot.bar(figsize = [8, 8])\n",
        "plt.title('Complaint ratio to boroughs population', fontsize=16)\n",
        "plt.xlabel('Borough', rotation=0, fontsize=12)\n",
        "plt.ylabel('ratio', rotation=90, fontsize=14)\n",
        "plt.xticks( rotation=0, fontsize=12)\n",
        "plt.yticks( rotation=0, fontsize=12)\n",
        "plt.show()"
      ],
      "execution_count": 84,
      "outputs": [
        {
          "output_type": "display_data",
          "data": {
            "image/png": "[encoded data removed]",
            "text/plain": [
              "<matplotlib.figure.Figure at 0x7f1fbf50f908>"
            ]
          },
          "metadata": {
            "tags": []
          }
        }
      ]
    }
  ]
}